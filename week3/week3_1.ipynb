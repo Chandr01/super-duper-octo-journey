{
 "cells": [
  {
   "cell_type": "code",
   "execution_count": 11,
   "metadata": {
    "collapsed": true
   },
   "outputs": [],
   "source": [
    "import numpy as np\n",
    "import pandas as pd\n",
    "from matplotlib import pyplot as plt\n",
    "%matplotlib inline\n",
    "from sklearn.model_selection import train_test_split, GridSearchCV\n",
    "from sklearn.metrics import accuracy_score\n",
    "from sklearn.tree import DecisionTreeClassifier, export_graphviz"
   ]
  },
  {
   "cell_type": "code",
   "execution_count": 17,
   "metadata": {},
   "outputs": [
    {
     "data": {
      "image/png": "[encoded data removed]",
      "text/plain": [
       "<matplotlib.figure.Figure at 0x1f24b401198>"
      ]
     },
     "metadata": {},
     "output_type": "display_data"
    }
   ],
   "source": [
    "\n",
    "X = np.linspace(-2, 2, 7)\n",
    "y = X ** 3\n",
    "\n",
    "plt.scatter(X, y)\n",
    "plt.plot(X, [0 for i in range(len(X))], c=\"r\")\n",
    "plt.plot(X, [bb for i in range(len(b))]+[aa for i in range(len(a))], c=\"g\")\n",
    "plt.xlabel(r'$x$')\n",
    "plt.ylabel(r'$y$');"
   ]
  },
  {
   "cell_type": "code",
   "execution_count": 12,
   "metadata": {
    "collapsed": true
   },
   "outputs": [],
   "source": [
    "def reg_tree(x, y):\n",
    "    for a,i in enumerate(x):\n",
    "        if i >= 0:\n",
    "            yield y[a]"
   ]
  },
  {
   "cell_type": "code",
   "execution_count": 13,
   "metadata": {},
   "outputs": [],
   "source": [
    "a = [i for i in reg_tree(X, y)]"
   ]
  },
  {
   "cell_type": "code",
   "execution_count": 14,
   "metadata": {
    "collapsed": true
   },
   "outputs": [],
   "source": [
    "def reg_tree2(x, y):\n",
    "    for a,i in enumerate(x):\n",
    "        if i < 0:\n",
    "            yield y[a]"
   ]
  },
  {
   "cell_type": "code",
   "execution_count": 15,
   "metadata": {},
   "outputs": [],
   "source": [
    "b = [i for i in reg_tree2(X, y)]\n"
   ]
  },
  {
   "cell_type": "code",
   "execution_count": 16,
   "metadata": {
    "collapsed": true
   },
   "outputs": [],
   "source": [
    "aa = sum(a)/len(a)\n",
    "bb = sum(b)/len(b)"
   ]
  },
  {
   "cell_type": "markdown",
   "metadata": {},
   "source": [
    "## 2 вопрос \n",
    "7"
   ]
  },
  {
   "cell_type": "code",
   "execution_count": 18,
   "metadata": {
    "collapsed": true
   },
   "outputs": [],
   "source": [
    "data = pd.read_csv('..\\week2\\mlbootcamp5_train.csv', sep=';',\n",
    "                    index_col='id')"
   ]
  },
  {
   "cell_type": "code",
   "execution_count": 19,
   "metadata": {},
   "outputs": [
    {
     "data": {
      "text/html": [
       "<div>\n",
       "<style>\n",
       "    .dataframe thead tr:only-child th {\n",
       "        text-align: right;\n",
       "    }\n",
       "\n",
       "    .dataframe thead th {\n",
       "        text-align: left;\n",
       "    }\n",
       "\n",
       "    .dataframe tbody tr th {\n",
       "        vertical-align: top;\n",
       "    }\n",
       "</style>\n",
       "<table border=\"1\" class=\"dataframe\">\n",
       "  <thead>\n",
       "    <tr style=\"text-align: right;\">\n",
       "      <th></th>\n",
       "      <th>age</th>\n",
       "      <th>gender</th>\n",
       "      <th>height</th>\n",
       "      <th>weight</th>\n",
       "      <th>ap_hi</th>\n",
       "      <th>ap_lo</th>\n",
       "      <th>cholesterol</th>\n",
       "      <th>gluc</th>\n",
       "      <th>smoke</th>\n",
       "      <th>alco</th>\n",
       "      <th>active</th>\n",
       "      <th>cardio</th>\n",
       "    </tr>\n",
       "    <tr>\n",
       "      <th>id</th>\n",
       "      <th></th>\n",
       "      <th></th>\n",
       "      <th></th>\n",
       "      <th></th>\n",
       "      <th></th>\n",
       "      <th></th>\n",
       "      <th></th>\n",
       "      <th></th>\n",
       "      <th></th>\n",
       "      <th></th>\n",
       "      <th></th>\n",
       "      <th></th>\n",
       "    </tr>\n",
       "  </thead>\n",
       "  <tbody>\n",
       "    <tr>\n",
       "      <th>0</th>\n",
       "      <td>18393</td>\n",
       "      <td>2</td>\n",
       "      <td>168</td>\n",
       "      <td>62.0</td>\n",
       "      <td>110</td>\n",
       "      <td>80</td>\n",
       "      <td>1</td>\n",
       "      <td>1</td>\n",
       "      <td>0</td>\n",
       "      <td>0</td>\n",
       "      <td>1</td>\n",
       "      <td>0</td>\n",
       "    </tr>\n",
       "    <tr>\n",
       "      <th>1</th>\n",
       "      <td>20228</td>\n",
       "      <td>1</td>\n",
       "      <td>156</td>\n",
       "      <td>85.0</td>\n",
       "      <td>140</td>\n",
       "      <td>90</td>\n",
       "      <td>3</td>\n",
       "      <td>1</td>\n",
       "      <td>0</td>\n",
       "      <td>0</td>\n",
       "      <td>1</td>\n",
       "      <td>1</td>\n",
       "    </tr>\n",
       "    <tr>\n",
       "      <th>2</th>\n",
       "      <td>18857</td>\n",
       "      <td>1</td>\n",
       "      <td>165</td>\n",
       "      <td>64.0</td>\n",
       "      <td>130</td>\n",
       "      <td>70</td>\n",
       "      <td>3</td>\n",
       "      <td>1</td>\n",
       "      <td>0</td>\n",
       "      <td>0</td>\n",
       "      <td>0</td>\n",
       "      <td>1</td>\n",
       "    </tr>\n",
       "    <tr>\n",
       "      <th>3</th>\n",
       "      <td>17623</td>\n",
       "      <td>2</td>\n",
       "      <td>169</td>\n",
       "      <td>82.0</td>\n",
       "      <td>150</td>\n",
       "      <td>100</td>\n",
       "      <td>1</td>\n",
       "      <td>1</td>\n",
       "      <td>0</td>\n",
       "      <td>0</td>\n",
       "      <td>1</td>\n",
       "      <td>1</td>\n",
       "    </tr>\n",
       "    <tr>\n",
       "      <th>4</th>\n",
       "      <td>17474</td>\n",
       "      <td>1</td>\n",
       "      <td>156</td>\n",
       "      <td>56.0</td>\n",
       "      <td>100</td>\n",
       "      <td>60</td>\n",
       "      <td>1</td>\n",
       "      <td>1</td>\n",
       "      <td>0</td>\n",
       "      <td>0</td>\n",
       "      <td>0</td>\n",
       "      <td>0</td>\n",
       "    </tr>\n",
       "  </tbody>\n",
       "</table>\n",
       "</div>"
      ],
      "text/plain": [
       "      age  gender  height  weight  ap_hi  ap_lo  cholesterol  gluc  smoke  \\\n",
       "id                                                                          \n",
       "0   18393       2     168    62.0    110     80            1     1      0   \n",
       "1   20228       1     156    85.0    140     90            3     1      0   \n",
       "2   18857       1     165    64.0    130     70            3     1      0   \n",
       "3   17623       2     169    82.0    150    100            1     1      0   \n",
       "4   17474       1     156    56.0    100     60            1     1      0   \n",
       "\n",
       "    alco  active  cardio  \n",
       "id                        \n",
       "0      0       1       0  \n",
       "1      0       1       1  \n",
       "2      0       0       1  \n",
       "3      0       1       1  \n",
       "4      0       0       0  "
      ]
     },
     "execution_count": 19,
     "metadata": {},
     "output_type": "execute_result"
    }
   ],
   "source": [
    "data.head()"
   ]
  },
  {
   "cell_type": "code",
   "execution_count": 20,
   "metadata": {
    "collapsed": true
   },
   "outputs": [],
   "source": [
    "data['age_years'] = (data['age'] // 365.25).astype(int)\n"
   ]
  },
  {
   "cell_type": "code",
   "execution_count": 21,
   "metadata": {
    "collapsed": true
   },
   "outputs": [],
   "source": [
    "dums = pd.get_dummies(data['cholesterol'], prefix='cholesterol')\n",
    "dums2 = pd.get_dummies(data['gluc'], prefix='gluc')"
   ]
  },
  {
   "cell_type": "code",
   "execution_count": null,
   "metadata": {
    "collapsed": true
   },
   "outputs": [],
   "source": []
  },
  {
   "cell_type": "code",
   "execution_count": 22,
   "metadata": {
    "collapsed": true
   },
   "outputs": [],
   "source": [
    "for i in dums2:\n",
    "    data[i] = dums2[i]"
   ]
  },
  {
   "cell_type": "code",
   "execution_count": 23,
   "metadata": {
    "collapsed": true
   },
   "outputs": [],
   "source": [
    "for i in dums:\n",
    "    data[i] = dums[i]"
   ]
  },
  {
   "cell_type": "code",
   "execution_count": 24,
   "metadata": {
    "collapsed": true
   },
   "outputs": [],
   "source": [
    "y = data['cardio']"
   ]
  },
  {
   "cell_type": "code",
   "execution_count": 25,
   "metadata": {
    "collapsed": true
   },
   "outputs": [],
   "source": [
    "data = data.drop(['gluc'], axis=1)\n",
    "data = data.drop(['cholesterol'], axis=1)\n",
    "# data = data.drop(['age'], axis=1)\n",
    "data = data.drop(['cardio'], axis=1)"
   ]
  },
  {
   "cell_type": "code",
   "execution_count": 26,
   "metadata": {
    "collapsed": true
   },
   "outputs": [],
   "source": [
    "from sklearn.model_selection import train_test_split"
   ]
  },
  {
   "cell_type": "code",
   "execution_count": 27,
   "metadata": {
    "collapsed": true
   },
   "outputs": [],
   "source": [
    "X_train, X_valid, y_train, y_valid = train_test_split(data, y, test_size=0.3, random_state = 17)"
   ]
  },
  {
   "cell_type": "code",
   "execution_count": 28,
   "metadata": {
    "collapsed": true
   },
   "outputs": [],
   "source": [
    "tree = DecisionTreeClassifier(max_depth=3, random_state=17)"
   ]
  },
  {
   "cell_type": "code",
   "execution_count": 29,
   "metadata": {},
   "outputs": [
    {
     "data": {
      "text/plain": [
       "DecisionTreeClassifier(class_weight=None, criterion='gini', max_depth=3,\n",
       "            max_features=None, max_leaf_nodes=None,\n",
       "            min_impurity_decrease=0.0, min_impurity_split=None,\n",
       "            min_samples_leaf=1, min_samples_split=2,\n",
       "            min_weight_fraction_leaf=0.0, presort=False, random_state=17,\n",
       "            splitter='best')"
      ]
     },
     "execution_count": 29,
     "metadata": {},
     "output_type": "execute_result"
    }
   ],
   "source": [
    "tree.fit(X_train, y_train)"
   ]
  },
  {
   "cell_type": "code",
   "execution_count": 30,
   "metadata": {
    "collapsed": true
   },
   "outputs": [],
   "source": [
    "from sklearn.tree import export_graphviz\n",
    "export_graphviz(tree, out_file='tree.dot', feature_names=data.columns, filled=True)"
   ]
  },
  {
   "cell_type": "markdown",
   "metadata": {},
   "source": [
    "## Какие 3 признака задействуются при прогнозе в построенном дереве решений? (то есть эти три признака \"можно найти в дереве\")\n",
    "\n",
    "weight, height, gluc=3 \n",
    "\n",
    "smoke, age, gluc=3\n",
    "\n",
    "age, weight, chol=3\n",
    "\n",
    "### age, ap_hi, chol=3"
   ]
  },
  {
   "cell_type": "code",
   "execution_count": 31,
   "metadata": {
    "collapsed": true
   },
   "outputs": [],
   "source": [
    "y_pred = tree.predict(X_valid)"
   ]
  },
  {
   "cell_type": "code",
   "execution_count": 32,
   "metadata": {},
   "outputs": [
    {
     "data": {
      "text/plain": [
       "0.72128571428571431"
      ]
     },
     "execution_count": 32,
     "metadata": {},
     "output_type": "execute_result"
    }
   ],
   "source": [
    "accuracy_score(y_valid, y_pred)\n"
   ]
  },
  {
   "cell_type": "code",
   "execution_count": 33,
   "metadata": {
    "collapsed": true
   },
   "outputs": [],
   "source": [
    "tree_params = {'max_depth': list(range(2, 11))}\n",
    "\n",
    "tree_grid = GridSearchCV(tree, tree_params, cv=5, n_jobs=-1)"
   ]
  },
  {
   "cell_type": "code",
   "execution_count": 34,
   "metadata": {},
   "outputs": [
    {
     "data": {
      "text/plain": [
       "GridSearchCV(cv=5, error_score='raise',\n",
       "       estimator=DecisionTreeClassifier(class_weight=None, criterion='gini', max_depth=3,\n",
       "            max_features=None, max_leaf_nodes=None,\n",
       "            min_impurity_decrease=0.0, min_impurity_split=None,\n",
       "            min_samples_leaf=1, min_samples_split=2,\n",
       "            min_weight_fraction_leaf=0.0, presort=False, random_state=17,\n",
       "            splitter='best'),\n",
       "       fit_params=None, iid=True, n_jobs=-1,\n",
       "       param_grid={'max_depth': [2, 3, 4, 5, 6, 7, 8, 9, 10]},\n",
       "       pre_dispatch='2*n_jobs', refit=True, return_train_score='warn',\n",
       "       scoring=None, verbose=0)"
      ]
     },
     "execution_count": 34,
     "metadata": {},
     "output_type": "execute_result"
    }
   ],
   "source": [
    "tree_grid.fit(X_train, y_train)"
   ]
  },
  {
   "cell_type": "code",
   "execution_count": 35,
   "metadata": {},
   "outputs": [
    {
     "name": "stderr",
     "output_type": "stream",
     "text": [
      "D:\\anaconda\\lib\\site-packages\\sklearn\\model_selection\\_search.py:761: DeprecationWarning: The grid_scores_ attribute was deprecated in version 0.18 in favor of the more elaborate cv_results_ attribute. The grid_scores_ attribute will not be available from 0.20\n",
      "  DeprecationWarning)\n"
     ]
    },
    {
     "data": {
      "text/plain": [
       "[mean: 0.71551, std: 0.00363, params: {'max_depth': 2},\n",
       " mean: 0.72771, std: 0.00485, params: {'max_depth': 3},\n",
       " mean: 0.73049, std: 0.00453, params: {'max_depth': 4},\n",
       " mean: 0.73096, std: 0.00523, params: {'max_depth': 5},\n",
       " mean: 0.73198, std: 0.00506, params: {'max_depth': 6},\n",
       " mean: 0.73037, std: 0.00360, params: {'max_depth': 7},\n",
       " mean: 0.72969, std: 0.00392, params: {'max_depth': 8},\n",
       " mean: 0.72822, std: 0.00475, params: {'max_depth': 9},\n",
       " mean: 0.72590, std: 0.00490, params: {'max_depth': 10}]"
      ]
     },
     "execution_count": 35,
     "metadata": {},
     "output_type": "execute_result"
    }
   ],
   "source": [
    "tree_grid.grid_scores_"
   ]
  },
  {
   "cell_type": "code",
   "execution_count": null,
   "metadata": {
    "collapsed": true
   },
   "outputs": [],
   "source": []
  },
  {
   "cell_type": "code",
   "execution_count": 36,
   "metadata": {},
   "outputs": [
    {
     "name": "stderr",
     "output_type": "stream",
     "text": [
      "D:\\anaconda\\lib\\site-packages\\sklearn\\model_selection\\_search.py:761: DeprecationWarning: The grid_scores_ attribute was deprecated in version 0.18 in favor of the more elaborate cv_results_ attribute. The grid_scores_ attribute will not be available from 0.20\n",
      "  DeprecationWarning)\n"
     ]
    }
   ],
   "source": [
    "means = [float(str(i).split(' ')[1].replace(',', '')) for i in tree_grid.grid_scores_]\n"
   ]
  },
  {
   "cell_type": "code",
   "execution_count": 37,
   "metadata": {
    "collapsed": true
   },
   "outputs": [],
   "source": [
    "depth = [i for i in range(2, 11)]"
   ]
  },
  {
   "cell_type": "code",
   "execution_count": 38,
   "metadata": {},
   "outputs": [
    {
     "data": {
      "image/png": "[encoded data removed]",
      "text/plain": [
       "<matplotlib.figure.Figure at 0x1f24b393fd0>"
      ]
     },
     "metadata": {},
     "output_type": "display_data"
    }
   ],
   "source": [
    "plt.plot(depth, means, c=\"r\")\n",
    "plt.ylabel(r'$means$')\n",
    "plt.xlabel(r'$depth$');"
   ]
  },
  {
   "cell_type": "code",
   "execution_count": 39,
   "metadata": {
    "collapsed": true
   },
   "outputs": [],
   "source": [
    "y_pred = tree_grid.predict(X_valid)"
   ]
  },
  {
   "cell_type": "code",
   "execution_count": 40,
   "metadata": {},
   "outputs": [
    {
     "data": {
      "text/plain": [
       "0.72580952380952379"
      ]
     },
     "execution_count": 40,
     "metadata": {},
     "output_type": "execute_result"
    }
   ],
   "source": [
    "accuracy_score(y_valid, y_pred)"
   ]
  },
  {
   "cell_type": "markdown",
   "metadata": {},
   "source": [
    "## Имеется ли на кривой валидации по максимальной глубине дерева пик accuracy, если перебирать max_depth от 2 до 10? Повысила ли настройка глубины дерева качество классификации (accuracy) более чем на 1% на отложенной выборке (надо посмотреть на выражение (acc2 - acc1) / acc1 * 100%, где acc1 и acc2 – доли верных ответов на отложенной выборке до и после настройки max_depth соответственно)?\n",
    "\n",
    "да, да\n",
    "### да, нет\n",
    "нет, да\n",
    "\n",
    "нет, нет"
   ]
  },
  {
   "cell_type": "code",
   "execution_count": 41,
   "metadata": {},
   "outputs": [
    {
     "data": {
      "text/html": [
       "<div>\n",
       "<style>\n",
       "    .dataframe thead tr:only-child th {\n",
       "        text-align: right;\n",
       "    }\n",
       "\n",
       "    .dataframe thead th {\n",
       "        text-align: left;\n",
       "    }\n",
       "\n",
       "    .dataframe tbody tr th {\n",
       "        vertical-align: top;\n",
       "    }\n",
       "</style>\n",
       "<table border=\"1\" class=\"dataframe\">\n",
       "  <thead>\n",
       "    <tr style=\"text-align: right;\">\n",
       "      <th></th>\n",
       "      <th>age</th>\n",
       "      <th>gender</th>\n",
       "      <th>height</th>\n",
       "      <th>weight</th>\n",
       "      <th>ap_hi</th>\n",
       "      <th>ap_lo</th>\n",
       "      <th>smoke</th>\n",
       "      <th>alco</th>\n",
       "      <th>active</th>\n",
       "      <th>age_years</th>\n",
       "      <th>gluc_1</th>\n",
       "      <th>gluc_2</th>\n",
       "      <th>gluc_3</th>\n",
       "      <th>cholesterol_1</th>\n",
       "      <th>cholesterol_2</th>\n",
       "      <th>cholesterol_3</th>\n",
       "    </tr>\n",
       "    <tr>\n",
       "      <th>id</th>\n",
       "      <th></th>\n",
       "      <th></th>\n",
       "      <th></th>\n",
       "      <th></th>\n",
       "      <th></th>\n",
       "      <th></th>\n",
       "      <th></th>\n",
       "      <th></th>\n",
       "      <th></th>\n",
       "      <th></th>\n",
       "      <th></th>\n",
       "      <th></th>\n",
       "      <th></th>\n",
       "      <th></th>\n",
       "      <th></th>\n",
       "      <th></th>\n",
       "    </tr>\n",
       "  </thead>\n",
       "  <tbody>\n",
       "    <tr>\n",
       "      <th>0</th>\n",
       "      <td>18393</td>\n",
       "      <td>2</td>\n",
       "      <td>168</td>\n",
       "      <td>62.0</td>\n",
       "      <td>110</td>\n",
       "      <td>80</td>\n",
       "      <td>0</td>\n",
       "      <td>0</td>\n",
       "      <td>1</td>\n",
       "      <td>50</td>\n",
       "      <td>1</td>\n",
       "      <td>0</td>\n",
       "      <td>0</td>\n",
       "      <td>1</td>\n",
       "      <td>0</td>\n",
       "      <td>0</td>\n",
       "    </tr>\n",
       "    <tr>\n",
       "      <th>1</th>\n",
       "      <td>20228</td>\n",
       "      <td>1</td>\n",
       "      <td>156</td>\n",
       "      <td>85.0</td>\n",
       "      <td>140</td>\n",
       "      <td>90</td>\n",
       "      <td>0</td>\n",
       "      <td>0</td>\n",
       "      <td>1</td>\n",
       "      <td>55</td>\n",
       "      <td>1</td>\n",
       "      <td>0</td>\n",
       "      <td>0</td>\n",
       "      <td>0</td>\n",
       "      <td>0</td>\n",
       "      <td>1</td>\n",
       "    </tr>\n",
       "    <tr>\n",
       "      <th>2</th>\n",
       "      <td>18857</td>\n",
       "      <td>1</td>\n",
       "      <td>165</td>\n",
       "      <td>64.0</td>\n",
       "      <td>130</td>\n",
       "      <td>70</td>\n",
       "      <td>0</td>\n",
       "      <td>0</td>\n",
       "      <td>0</td>\n",
       "      <td>51</td>\n",
       "      <td>1</td>\n",
       "      <td>0</td>\n",
       "      <td>0</td>\n",
       "      <td>0</td>\n",
       "      <td>0</td>\n",
       "      <td>1</td>\n",
       "    </tr>\n",
       "    <tr>\n",
       "      <th>3</th>\n",
       "      <td>17623</td>\n",
       "      <td>2</td>\n",
       "      <td>169</td>\n",
       "      <td>82.0</td>\n",
       "      <td>150</td>\n",
       "      <td>100</td>\n",
       "      <td>0</td>\n",
       "      <td>0</td>\n",
       "      <td>1</td>\n",
       "      <td>48</td>\n",
       "      <td>1</td>\n",
       "      <td>0</td>\n",
       "      <td>0</td>\n",
       "      <td>1</td>\n",
       "      <td>0</td>\n",
       "      <td>0</td>\n",
       "    </tr>\n",
       "    <tr>\n",
       "      <th>4</th>\n",
       "      <td>17474</td>\n",
       "      <td>1</td>\n",
       "      <td>156</td>\n",
       "      <td>56.0</td>\n",
       "      <td>100</td>\n",
       "      <td>60</td>\n",
       "      <td>0</td>\n",
       "      <td>0</td>\n",
       "      <td>0</td>\n",
       "      <td>47</td>\n",
       "      <td>1</td>\n",
       "      <td>0</td>\n",
       "      <td>0</td>\n",
       "      <td>1</td>\n",
       "      <td>0</td>\n",
       "      <td>0</td>\n",
       "    </tr>\n",
       "  </tbody>\n",
       "</table>\n",
       "</div>"
      ],
      "text/plain": [
       "      age  gender  height  weight  ap_hi  ap_lo  smoke  alco  active  \\\n",
       "id                                                                     \n",
       "0   18393       2     168    62.0    110     80      0     0       1   \n",
       "1   20228       1     156    85.0    140     90      0     0       1   \n",
       "2   18857       1     165    64.0    130     70      0     0       0   \n",
       "3   17623       2     169    82.0    150    100      0     0       1   \n",
       "4   17474       1     156    56.0    100     60      0     0       0   \n",
       "\n",
       "    age_years  gluc_1  gluc_2  gluc_3  cholesterol_1  cholesterol_2  \\\n",
       "id                                                                    \n",
       "0          50       1       0       0              1              0   \n",
       "1          55       1       0       0              0              0   \n",
       "2          51       1       0       0              0              0   \n",
       "3          48       1       0       0              1              0   \n",
       "4          47       1       0       0              1              0   \n",
       "\n",
       "    cholesterol_3  \n",
       "id                 \n",
       "0               0  \n",
       "1               1  \n",
       "2               1  \n",
       "3               0  \n",
       "4               0  "
      ]
     },
     "execution_count": 41,
     "metadata": {},
     "output_type": "execute_result"
    }
   ],
   "source": [
    "data.head()"
   ]
  },
  {
   "cell_type": "code",
   "execution_count": 42,
   "metadata": {
    "collapsed": true
   },
   "outputs": [],
   "source": [
    "data['[45,50)'] = data['age_years']\n",
    "data['[50,55)'] = data['age_years']\n",
    "data['[55,60)'] = data['age_years']\n",
    "data['[60,65)'] = data['age_years']"
   ]
  },
  {
   "cell_type": "code",
   "execution_count": 43,
   "metadata": {},
   "outputs": [],
   "source": [
    "data['[45,50)'] = data['[45,50)'].apply(lambda x: 1 if x >=45 and x <50 else 0)\n",
    "data['[50,55)'] = data['[50,55)'].apply(lambda x: 1 if x >=50 and x <55 else 0)\n",
    "data['[55,60)'] = data['[55,60)'].apply(lambda x: 1 if x >=55 and x <60 else 0)\n",
    "data['[60,65)'] = data['[60,65)'].apply(lambda x: 1 if x >=60 and x <65 else 0)"
   ]
  },
  {
   "cell_type": "code",
   "execution_count": 44,
   "metadata": {
    "collapsed": true
   },
   "outputs": [],
   "source": [
    "data['[120,140)'] = data['ap_hi']\n",
    "data['[140,160)'] = data['ap_hi']\n",
    "data['[160,180)'] = data['ap_hi']\n"
   ]
  },
  {
   "cell_type": "code",
   "execution_count": 45,
   "metadata": {
    "collapsed": true
   },
   "outputs": [],
   "source": [
    "data['[120,140)'] = data['[120,140)'].apply(lambda x: 1 if x >=120 and x <140 else 0)\n",
    "data['[140,160)'] = data['[140,160)'].apply(lambda x: 1 if x >=140 and x <160 else 0)\n",
    "data['[160,180)'] = data['[160,180)'].apply(lambda x: 1 if x >=160 and x <180 else 0)"
   ]
  },
  {
   "cell_type": "code",
   "execution_count": 46,
   "metadata": {
    "collapsed": true
   },
   "outputs": [],
   "source": [
    "df = data[['[120,140)', '[140,160)', '[160,180)', '[45,50)','[50,55)', '[55,60)', '[60,65)']]"
   ]
  },
  {
   "cell_type": "code",
   "execution_count": 47,
   "metadata": {},
   "outputs": [
    {
     "name": "stderr",
     "output_type": "stream",
     "text": [
      "D:\\anaconda\\lib\\site-packages\\ipykernel_launcher.py:1: SettingWithCopyWarning: \n",
      "A value is trying to be set on a copy of a slice from a DataFrame.\n",
      "Try using .loc[row_indexer,col_indexer] = value instead\n",
      "\n",
      "See the caveats in the documentation: http://pandas.pydata.org/pandas-docs/stable/indexing.html#indexing-view-versus-copy\n",
      "  \"\"\"Entry point for launching an IPython kernel.\n",
      "D:\\anaconda\\lib\\site-packages\\ipykernel_launcher.py:2: SettingWithCopyWarning: \n",
      "A value is trying to be set on a copy of a slice from a DataFrame.\n",
      "Try using .loc[row_indexer,col_indexer] = value instead\n",
      "\n",
      "See the caveats in the documentation: http://pandas.pydata.org/pandas-docs/stable/indexing.html#indexing-view-versus-copy\n",
      "  \n",
      "D:\\anaconda\\lib\\site-packages\\ipykernel_launcher.py:3: SettingWithCopyWarning: \n",
      "A value is trying to be set on a copy of a slice from a DataFrame.\n",
      "Try using .loc[row_indexer,col_indexer] = value instead\n",
      "\n",
      "See the caveats in the documentation: http://pandas.pydata.org/pandas-docs/stable/indexing.html#indexing-view-versus-copy\n",
      "  This is separate from the ipykernel package so we can avoid doing imports until\n"
     ]
    }
   ],
   "source": [
    "df['cholesterol_1'] = data['cholesterol_1']\n",
    "df['cholesterol_2'] = data['cholesterol_2']\n",
    "df['cholesterol_3'] = data['cholesterol_3']"
   ]
  },
  {
   "cell_type": "code",
   "execution_count": 48,
   "metadata": {},
   "outputs": [
    {
     "name": "stderr",
     "output_type": "stream",
     "text": [
      "D:\\anaconda\\lib\\site-packages\\ipykernel_launcher.py:1: SettingWithCopyWarning: \n",
      "A value is trying to be set on a copy of a slice from a DataFrame.\n",
      "Try using .loc[row_indexer,col_indexer] = value instead\n",
      "\n",
      "See the caveats in the documentation: http://pandas.pydata.org/pandas-docs/stable/indexing.html#indexing-view-versus-copy\n",
      "  \"\"\"Entry point for launching an IPython kernel.\n"
     ]
    }
   ],
   "source": [
    "df['male'] = data['gender']"
   ]
  },
  {
   "cell_type": "code",
   "execution_count": 49,
   "metadata": {},
   "outputs": [
    {
     "name": "stderr",
     "output_type": "stream",
     "text": [
      "D:\\anaconda\\lib\\site-packages\\ipykernel_launcher.py:1: SettingWithCopyWarning: \n",
      "A value is trying to be set on a copy of a slice from a DataFrame.\n",
      "Try using .loc[row_indexer,col_indexer] = value instead\n",
      "\n",
      "See the caveats in the documentation: http://pandas.pydata.org/pandas-docs/stable/indexing.html#indexing-view-versus-copy\n",
      "  \"\"\"Entry point for launching an IPython kernel.\n"
     ]
    }
   ],
   "source": [
    "df['male'] = df['male'].apply(lambda x: 1 if x == 2 else 0)"
   ]
  },
  {
   "cell_type": "code",
   "execution_count": 50,
   "metadata": {},
   "outputs": [
    {
     "name": "stderr",
     "output_type": "stream",
     "text": [
      "D:\\anaconda\\lib\\site-packages\\ipykernel_launcher.py:1: SettingWithCopyWarning: \n",
      "A value is trying to be set on a copy of a slice from a DataFrame.\n",
      "Try using .loc[row_indexer,col_indexer] = value instead\n",
      "\n",
      "See the caveats in the documentation: http://pandas.pydata.org/pandas-docs/stable/indexing.html#indexing-view-versus-copy\n",
      "  \"\"\"Entry point for launching an IPython kernel.\n"
     ]
    }
   ],
   "source": [
    "df['smoke'] = data['smoke']"
   ]
  },
  {
   "cell_type": "code",
   "execution_count": 51,
   "metadata": {},
   "outputs": [
    {
     "data": {
      "text/plain": [
       "[120,140)        0\n",
       "[140,160)        0\n",
       "[160,180)        0\n",
       "[45,50)          1\n",
       "[50,55)          0\n",
       "[55,60)          0\n",
       "[60,65)          0\n",
       "cholesterol_1    1\n",
       "cholesterol_2    0\n",
       "cholesterol_3    0\n",
       "male             0\n",
       "smoke            0\n",
       "Name: 13, dtype: int64"
      ]
     },
     "execution_count": 51,
     "metadata": {},
     "output_type": "execute_result"
    }
   ],
   "source": [
    "df.loc[13]"
   ]
  },
  {
   "cell_type": "code",
   "execution_count": 52,
   "metadata": {},
   "outputs": [
    {
     "data": {
      "text/plain": [
       "Index(['[45,50)', '[50,55)', '[55,60)', '[60,65)'], dtype='object')"
      ]
     },
     "execution_count": 52,
     "metadata": {},
     "output_type": "execute_result"
    }
   ],
   "source": [
    "df.columns[3:7]"
   ]
  },
  {
   "cell_type": "code",
   "execution_count": 56,
   "metadata": {},
   "outputs": [
    {
     "data": {
      "text/plain": [
       "[120,140)        0\n",
       "[140,160)        0\n",
       "[160,180)        0\n",
       "[45,50)          0\n",
       "[50,55)          0\n",
       "[55,60)          0\n",
       "[60,65)          0\n",
       "cholesterol_1    0\n",
       "cholesterol_2    0\n",
       "cholesterol_3    0\n",
       "male             0\n",
       "smoke            0\n",
       "Name: 461, dtype: int64"
      ]
     },
     "execution_count": 56,
     "metadata": {},
     "output_type": "execute_result"
    }
   ],
   "source": [
    "df.loc[461]"
   ]
  },
  {
   "cell_type": "code",
   "execution_count": null,
   "metadata": {},
   "outputs": [
    {
     "name": "stderr",
     "output_type": "stream",
     "text": [
      "D:\\anaconda\\lib\\site-packages\\pandas\\core\\indexing.py:517: SettingWithCopyWarning: \n",
      "A value is trying to be set on a copy of a slice from a DataFrame.\n",
      "Try using .loc[row_indexer,col_indexer] = value instead\n",
      "\n",
      "See the caveats in the documentation: http://pandas.pydata.org/pandas-docs/stable/indexing.html#indexing-view-versus-copy\n",
      "  self.obj[item] = s\n"
     ]
    },
    {
     "name": "stdout",
     "output_type": "stream",
     "text": [
      "hi == 0 0\n",
      "age == 0 0\n",
      "hi == 0 4\n",
      "age == 0 4\n",
      "hi == 0 13\n",
      "age == 0 13\n",
      "hi == 0 14\n",
      "age == 0 14\n",
      "age == 0 18\n",
      "hi == 0 21\n",
      "age == 0 21\n",
      "age == 0 23\n",
      "hi == 0 27\n",
      "age == 0 27\n",
      "hi == 0 28\n",
      "age == 0 28\n",
      "hi == 0 33\n",
      "age == 0 33\n",
      "age == 0 36\n",
      "age == 0 39\n",
      "hi == 0 44\n",
      "age == 0 44\n",
      "hi == 0 54\n",
      "age == 0 54\n",
      "hi == 0 56\n",
      "age == 0 56\n",
      "age == 0 64\n",
      "hi == 0 65\n",
      "age == 0 65\n",
      "age == 0 68\n",
      "hi == 0 71\n",
      "age == 0 71\n",
      "age == 0 73\n",
      "hi == 0 74\n",
      "age == 0 74\n",
      "hi == 0 77\n",
      "age == 0 77\n",
      "hi == 0 79\n",
      "age == 0 79\n",
      "hi == 0 94\n",
      "age == 0 94\n",
      "hi == 0 97\n",
      "age == 0 97\n",
      "age == 0 103\n",
      "hi == 0 116\n",
      "age == 0 116\n",
      "age == 0 127\n",
      "hi == 0 129\n",
      "age == 0 129\n",
      "hi == 0 131\n",
      "age == 0 131\n",
      "hi == 0 135\n",
      "age == 0 135\n",
      "hi == 0 136\n",
      "age == 0 136\n",
      "hi == 0 137\n",
      "age == 0 137\n",
      "age == 0 141\n",
      "hi == 0 142\n",
      "age == 0 142\n",
      "age == 0 143\n",
      "hi == 0 144\n",
      "age == 0 144\n",
      "hi == 0 145\n",
      "age == 0 145\n",
      "hi == 0 148\n",
      "age == 0 148\n",
      "hi == 0 162\n",
      "age == 0 162\n",
      "hi == 0 163\n",
      "age == 0 163\n",
      "hi == 0 168\n",
      "age == 0 168\n",
      "hi == 0 178\n",
      "age == 0 178\n",
      "hi == 0 192\n",
      "age == 0 192\n",
      "hi == 0 202\n",
      "age == 0 202\n",
      "age == 0 203\n",
      "age == 0 213\n",
      "hi == 0 215\n",
      "age == 0 215\n",
      "hi == 0 217\n",
      "age == 0 217\n",
      "hi == 0 220\n",
      "age == 0 220\n",
      "age == 0 225\n",
      "hi == 0 238\n",
      "age == 0 238\n",
      "hi == 0 242\n",
      "age == 0 242\n",
      "hi == 0 244\n",
      "age == 0 244\n",
      "hi == 0 255\n",
      "age == 0 255\n",
      "age == 0 257\n",
      "hi == 0 258\n",
      "age == 0 258\n",
      "hi == 0 259\n",
      "age == 0 259\n",
      "age == 0 261\n",
      "age == 0 272\n",
      "hi == 0 275\n",
      "age == 0 275\n",
      "age == 0 278\n",
      "hi == 0 285\n",
      "age == 0 285\n",
      "hi == 0 287\n",
      "age == 0 287\n",
      "hi == 0 288\n",
      "age == 0 288\n",
      "hi == 0 292\n",
      "age == 0 292\n",
      "age == 0 308\n",
      "hi == 0 311\n",
      "age == 0 311\n",
      "age == 0 312\n",
      "hi == 0 318\n",
      "age == 0 318\n",
      "hi == 0 322\n",
      "age == 0 322\n",
      "age == 0 336\n",
      "age == 0 340\n",
      "age == 0 350\n",
      "hi == 0 363\n",
      "age == 0 363\n",
      "hi == 0 372\n",
      "age == 0 372\n",
      "age == 0 375\n",
      "hi == 0 379\n",
      "age == 0 379\n",
      "age == 0 380\n",
      "hi == 0 382\n",
      "age == 0 382\n",
      "hi == 0 384\n",
      "age == 0 384\n",
      "hi == 0 389\n",
      "age == 0 389\n",
      "hi == 0 396\n",
      "age == 0 396\n",
      "hi == 0 408\n",
      "age == 0 408\n",
      "hi == 0 426\n",
      "age == 0 426\n",
      "hi == 0 431\n",
      "age == 0 431\n",
      "hi == 0 432\n",
      "age == 0 432\n",
      "hi == 0 434\n",
      "age == 0 434\n",
      "hi == 0 442\n",
      "age == 0 442\n",
      "hi == 0 449\n",
      "age == 0 449\n",
      "age == 0 450\n",
      "hi == 0 459\n",
      "age == 0 459\n",
      "hi == 0 461\n",
      "age == 0 461\n",
      "age == 0 466\n",
      "hi == 0 467\n",
      "age == 0 467\n",
      "age == 0 476\n",
      "age == 0 481\n",
      "age == 0 490\n",
      "hi == 0 491\n",
      "age == 0 491\n",
      "hi == 0 493\n",
      "age == 0 493\n",
      "hi == 0 494\n",
      "age == 0 494\n",
      "hi == 0 495\n",
      "age == 0 495\n",
      "age == 0 510\n",
      "age == 0 520\n",
      "age == 0 525\n",
      "age == 0 528\n",
      "age == 0 537\n",
      "hi == 0 543\n",
      "age == 0 543\n",
      "age == 0 546\n",
      "hi == 0 551\n",
      "age == 0 551\n",
      "hi == 0 566\n",
      "age == 0 566\n",
      "hi == 0 572\n",
      "age == 0 572\n",
      "hi == 0 585\n",
      "age == 0 585\n",
      "hi == 0 586\n",
      "age == 0 586\n",
      "hi == 0 587\n",
      "age == 0 587\n",
      "hi == 0 610\n",
      "age == 0 610\n",
      "hi == 0 614\n",
      "age == 0 614\n",
      "hi == 0 622\n",
      "age == 0 622\n",
      "hi == 0 628\n",
      "age == 0 628\n",
      "hi == 0 631\n",
      "age == 0 631\n",
      "hi == 0 632\n",
      "age == 0 632\n",
      "age == 0 650\n",
      "hi == 0 653\n",
      "age == 0 653\n",
      "age == 0 657\n",
      "age == 0 664\n",
      "hi == 0 678\n",
      "age == 0 678\n",
      "age == 0 679\n",
      "age == 0 680\n",
      "age == 0 692\n",
      "hi == 0 695\n",
      "age == 0 695\n",
      "hi == 0 697\n",
      "age == 0 697\n",
      "hi == 0 699\n",
      "age == 0 699\n",
      "hi == 0 700\n",
      "age == 0 700\n",
      "hi == 0 704\n",
      "age == 0 704\n",
      "hi == 0 722\n",
      "age == 0 722\n",
      "hi == 0 733\n",
      "age == 0 733\n",
      "hi == 0 734\n",
      "age == 0 734\n",
      "age == 0 744\n",
      "hi == 0 745\n",
      "age == 0 745\n",
      "age == 0 750\n",
      "age == 0 752\n",
      "age == 0 755\n",
      "hi == 0 761\n",
      "age == 0 761\n",
      "hi == 0 765\n",
      "age == 0 765\n",
      "hi == 0 767\n",
      "age == 0 767\n",
      "age == 0 770\n",
      "hi == 0 773\n",
      "age == 0 773\n",
      "hi == 0 774\n",
      "age == 0 774\n",
      "hi == 0 783\n",
      "age == 0 783\n",
      "hi == 0 789\n",
      "age == 0 789\n",
      "age == 0 796\n",
      "hi == 0 797\n",
      "age == 0 797\n",
      "hi == 0 800\n",
      "age == 0 800\n",
      "hi == 0 803\n",
      "age == 0 803\n",
      "hi == 0 805\n",
      "age == 0 805\n",
      "hi == 0 806\n",
      "age == 0 806\n",
      "hi == 0 807\n",
      "age == 0 807\n",
      "age == 0 810\n",
      "hi == 0 811\n",
      "age == 0 811\n",
      "hi == 0 813\n",
      "age == 0 813\n",
      "hi == 0 815\n",
      "age == 0 815\n",
      "hi == 0 816\n",
      "age == 0 816\n",
      "hi == 0 821\n",
      "age == 0 821\n",
      "age == 0 829\n",
      "hi == 0 840\n",
      "age == 0 840\n",
      "age == 0 841\n",
      "hi == 0 843\n",
      "age == 0 843\n",
      "age == 0 845\n",
      "age == 0 846\n",
      "hi == 0 848\n",
      "age == 0 848\n",
      "hi == 0 851\n",
      "age == 0 851\n",
      "hi == 0 856\n",
      "age == 0 856\n",
      "age == 0 859\n",
      "hi == 0 870\n",
      "age == 0 870\n",
      "hi == 0 883\n",
      "age == 0 883\n",
      "hi == 0 884\n",
      "age == 0 884\n",
      "age == 0 892\n",
      "hi == 0 896\n",
      "age == 0 896\n",
      "hi == 0 900\n",
      "age == 0 900\n",
      "age == 0 903\n",
      "age == 0 904\n",
      "hi == 0 905\n",
      "age == 0 905\n",
      "age == 0 907\n",
      "hi == 0 913\n",
      "age == 0 913\n",
      "hi == 0 914\n",
      "age == 0 914\n",
      "hi == 0 928\n",
      "age == 0 928\n",
      "age == 0 930\n",
      "hi == 0 932\n",
      "age == 0 932\n",
      "age == 0 934\n",
      "hi == 0 936\n",
      "age == 0 936\n",
      "hi == 0 938\n",
      "age == 0 938\n",
      "age == 0 941\n",
      "age == 0 952\n",
      "hi == 0 953\n",
      "age == 0 953\n",
      "hi == 0 956\n",
      "age == 0 956\n",
      "hi == 0 958\n",
      "age == 0 958\n",
      "age == 0 959\n",
      "age == 0 960\n",
      "hi == 0 962\n",
      "age == 0 962\n",
      "age == 0 964\n",
      "hi == 0 968\n",
      "age == 0 968\n",
      "age == 0 974\n",
      "age == 0 977\n",
      "hi == 0 982\n",
      "age == 0 982\n",
      "hi == 0 983\n",
      "age == 0 983\n",
      "hi == 0 989\n",
      "age == 0 989\n",
      "age == 0 991\n",
      "hi == 0 995\n",
      "age == 0 995\n",
      "hi == 0 996\n",
      "age == 0 996\n",
      "hi == 0 999\n",
      "age == 0 999\n",
      "hi == 0 1014\n",
      "age == 0 1014\n",
      "hi == 0 1019\n",
      "age == 0 1019\n",
      "hi == 0 1021\n",
      "age == 0 1021\n",
      "hi == 0 1026\n",
      "age == 0 1026\n",
      "age == 0 1027\n",
      "age == 0 1028\n",
      "hi == 0 1029\n",
      "age == 0 1029\n",
      "age == 0 1033\n",
      "hi == 0 1036\n",
      "age == 0 1036\n",
      "age == 0 1039\n",
      "hi == 0 1041\n",
      "age == 0 1041\n",
      "hi == 0 1047\n",
      "age == 0 1047\n",
      "age == 0 1048\n",
      "age == 0 1055\n",
      "age == 0 1060\n",
      "age == 0 1062\n",
      "age == 0 1070\n",
      "hi == 0 1074\n",
      "age == 0 1074\n",
      "age == 0 1075\n",
      "age == 0 1076\n",
      "hi == 0 1085\n",
      "age == 0 1085\n",
      "age == 0 1087\n",
      "hi == 0 1100\n",
      "age == 0 1100\n",
      "hi == 0 1101\n",
      "age == 0 1101\n",
      "age == 0 1106\n",
      "age == 0 1110\n",
      "age == 0 1118\n",
      "age == 0 1119\n",
      "age == 0 1124\n",
      "hi == 0 1125\n",
      "age == 0 1125\n",
      "hi == 0 1127\n",
      "age == 0 1127\n",
      "hi == 0 1133\n",
      "age == 0 1133\n",
      "hi == 0 1136\n",
      "age == 0 1136\n",
      "hi == 0 1143\n",
      "age == 0 1143\n",
      "hi == 0 1144\n",
      "age == 0 1144\n",
      "age == 0 1147\n",
      "age == 0 1148\n",
      "age == 0 1158\n",
      "hi == 0 1159\n",
      "age == 0 1159\n",
      "age == 0 1160\n",
      "hi == 0 1164\n",
      "age == 0 1164\n",
      "hi == 0 1167\n",
      "age == 0 1167\n",
      "hi == 0 1168\n",
      "age == 0 1168\n",
      "age == 0 1169\n",
      "age == 0 1176\n",
      "hi == 0 1179\n",
      "age == 0 1179\n",
      "hi == 0 1180\n",
      "age == 0 1180\n",
      "age == 0 1182\n",
      "age == 0 1183\n",
      "hi == 0 1187\n",
      "age == 0 1187\n",
      "hi == 0 1190\n",
      "age == 0 1190\n",
      "hi == 0 1191\n",
      "age == 0 1191\n",
      "hi == 0 1193\n",
      "age == 0 1193\n",
      "age == 0 1201\n",
      "age == 0 1203\n",
      "hi == 0 1204\n",
      "age == 0 1204\n",
      "age == 0 1209\n",
      "age == 0 1221\n",
      "hi == 0 1232\n",
      "age == 0 1232\n",
      "age == 0 1237\n",
      "hi == 0 1239\n",
      "age == 0 1239\n",
      "hi == 0 1245\n",
      "age == 0 1245\n",
      "hi == 0 1256\n",
      "age == 0 1256\n",
      "hi == 0 1270\n",
      "age == 0 1270\n",
      "hi == 0 1281\n",
      "age == 0 1281\n"
     ]
    }
   ],
   "source": [
    "for i in df.index:\n",
    "    hi = 0\n",
    "    age = 0\n",
    "    for a in df.columns[0:3]:\n",
    "        hi += df[a].loc[i]\n",
    "    if hi == 0: \n",
    "        df.loc[i] = 0\n",
    "        print('hi == 0 {}'.format(i))\n",
    "        \n",
    "    for b in df.columns[3:7]:\n",
    "        age += df[b].loc[i]\n",
    "    if age == 0: \n",
    "        df.loc[i] = 0\n",
    "        print('age == 0 {}'.format(i))"
   ]
  },
  {
   "cell_type": "code",
   "execution_count": 121,
   "metadata": {},
   "outputs": [
    {
     "data": {
      "text/plain": [
       "[120,140)        0\n",
       "[140,160)        0\n",
       "[160,180)        0\n",
       "[45,50)          0\n",
       "[50,55)          0\n",
       "[55,60)          0\n",
       "[60,65)          0\n",
       "cholesterol_1    0\n",
       "cholesterol_2    0\n",
       "cholesterol_3    0\n",
       "male             0\n",
       "smoke            0\n",
       "Name: 2261, dtype: int64"
      ]
     },
     "execution_count": 121,
     "metadata": {},
     "output_type": "execute_result"
    }
   ],
   "source": [
    "df.loc[2261].apply(lambda x: 0)"
   ]
  }
 ],
 "metadata": {
  "kernelspec": {
   "display_name": "Python 3",
   "language": "python",
   "name": "python3"
  }
 },
 "nbformat": 4,
 "nbformat_minor": 2
}
